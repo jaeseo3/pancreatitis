{
  "nbformat": 4,
  "nbformat_minor": 0,
  "metadata": {
    "colab": {
      "provenance": [],
      "mount_file_id": "1SBQjF_m04k6A2Ad1IAvmg3U3dMupSpwK",
      "authorship_tag": "ABX9TyMXho8gi5u8G9Th25myvm4g",
      "include_colab_link": true
    },
    "kernelspec": {
      "name": "python3",
      "display_name": "Python 3"
    },
    "language_info": {
      "name": "python"
    }
  },
  "cells": [
    {
      "cell_type": "markdown",
      "metadata": {
        "id": "view-in-github",
        "colab_type": "text"
      },
      "source": [
        "<a href=\"https://colab.research.google.com/github/jaeseo3/pancreatitis/blob/main/data_split.ipynb\" target=\"_parent\"><img src=\"https://colab.research.google.com/assets/colab-badge.svg\" alt=\"Open In Colab\"/></a>"
      ]
    },
    {
      "cell_type": "code",
      "execution_count": 1,
      "metadata": {
        "colab": {
          "base_uri": "https://localhost:8080/"
        },
        "id": "HWz1E1nJFyOo",
        "outputId": "3affb835-7a8a-4bf5-b8ba-5d3b2b59fa52"
      },
      "outputs": [
        {
          "output_type": "stream",
          "name": "stdout",
          "text": [
            "/content/drive/MyDrive\n"
          ]
        }
      ],
      "source": [
        "cd /content/drive/MyDrive"
      ]
    },
    {
      "cell_type": "code",
      "source": [
        "!git clone https://github.com/LeeJunHyun/Image_Segmentation.git"
      ],
      "metadata": {
        "colab": {
          "base_uri": "https://localhost:8080/"
        },
        "id": "jBdEnvjHX7p-",
        "outputId": "023b92de-1e9d-4afa-d758-d3fec991bd03"
      },
      "execution_count": 2,
      "outputs": [
        {
          "output_type": "stream",
          "name": "stdout",
          "text": [
            "Cloning into 'Image_Segmentation'...\n",
            "remote: Enumerating objects: 54, done.\u001b[K\n",
            "remote: Counting objects: 100% (3/3), done.\u001b[K\n",
            "remote: Compressing objects: 100% (3/3), done.\u001b[K\n",
            "remote: Total 54 (delta 0), reused 0 (delta 0), pack-reused 51\u001b[K\n",
            "Receiving objects: 100% (54/54), 265.65 KiB | 2.44 MiB/s, done.\n",
            "Resolving deltas: 100% (22/22), done.\n"
          ]
        }
      ]
    },
    {
      "cell_type": "code",
      "source": [
        "!python Image_Segmentation/dataset.py"
      ],
      "metadata": {
        "colab": {
          "base_uri": "https://localhost:8080/"
        },
        "id": "10UHQMWKZpDH",
        "outputId": "858b752f-7059-478a-e856-63c1b8d06c4b"
      },
      "execution_count": 8,
      "outputs": [
        {
          "output_type": "stream",
          "name": "stdout",
          "text": [
            "Namespace(train_ratio=0.6, valid_ratio=0.2, test_ratio=0.2, origin_data_path='/content/drive/MyDrive/pancreas/image_224', origin_GT_path='/content/drive/MyDrive/pancreas/label_224', train_path='/content/drive/MyDrive/pancreas2/train/', train_GT_path='/content/drive/MyDrive/pancreas2/train_GT/', valid_path='/content/drive/MyDrive/pancreas2/valid/', valid_GT_path='/content/drive/MyDrive/pancreas2/valid_GT/', test_path='/content/drive/MyDrive/pancreas2/test/', test_GT_path='/content/drive/MyDrive/pancreas2/test_GT/')\n",
            "Remove path - /content/drive/MyDrive/pancreas2/train/\n",
            "Create path - /content/drive/MyDrive/pancreas2/train/\n",
            "Remove path - /content/drive/MyDrive/pancreas2/train_GT/\n",
            "Create path - /content/drive/MyDrive/pancreas2/train_GT/\n",
            "Remove path - /content/drive/MyDrive/pancreas2/valid/\n",
            "Create path - /content/drive/MyDrive/pancreas2/valid/\n",
            "Remove path - /content/drive/MyDrive/pancreas2/valid_GT/\n",
            "Create path - /content/drive/MyDrive/pancreas2/valid_GT/\n",
            "Remove path - /content/drive/MyDrive/pancreas2/test/\n",
            "Create path - /content/drive/MyDrive/pancreas2/test/\n",
            "Remove path - /content/drive/MyDrive/pancreas2/test_GT/\n",
            "Create path - /content/drive/MyDrive/pancreas2/test_GT/\n",
            "\n",
            "Num of train set :  5550\n",
            "\n",
            "Num of valid set :  1850\n",
            "\n",
            "Num of test set :  1851\n",
            "Traceback (most recent call last):\n",
            "  File \"/content/drive/MyDrive/Image_Segmentation/dataset.py\", line 111, in <module>\n",
            "    main(config)\n",
            "  File \"/content/drive/MyDrive/Image_Segmentation/dataset.py\", line 53, in main\n",
            "    copyfile(src, dst)\n",
            "  File \"/usr/lib/python3.10/shutil.py\", line 254, in copyfile\n",
            "    with open(src, 'rb') as fsrc:\n",
            "FileNotFoundError: [Errno 2] No such file or directory: '/content/drive/MyDrive/pancreas/image_224/pancreas_8959.png'\n"
          ]
        }
      ]
    }
  ]
}