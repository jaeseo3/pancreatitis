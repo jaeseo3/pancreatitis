{
  "nbformat": 4,
  "nbformat_minor": 0,
  "metadata": {
    "colab": {
      "provenance": [],
      "mount_file_id": "1SBQjF_m04k6A2Ad1IAvmg3U3dMupSpwK",
      "authorship_tag": "ABX9TyOZE6irP1TDNlQDWY21DfB8",
      "include_colab_link": true
    },
    "kernelspec": {
      "name": "python3",
      "display_name": "Python 3"
    },
    "language_info": {
      "name": "python"
    }
  },
  "cells": [
    {
      "cell_type": "markdown",
      "metadata": {
        "id": "view-in-github",
        "colab_type": "text"
      },
      "source": [
        "<a href=\"https://colab.research.google.com/github/jaeseo3/pancreatitis/blob/main/data_split.ipynb\" target=\"_parent\"><img src=\"https://colab.research.google.com/assets/colab-badge.svg\" alt=\"Open In Colab\"/></a>"
      ]
    },
    {
      "cell_type": "code",
      "execution_count": 2,
      "metadata": {
        "colab": {
          "base_uri": "https://localhost:8080/"
        },
        "id": "HWz1E1nJFyOo",
        "outputId": "46bc744f-9cb6-4764-97c3-759f1fb7ee39"
      },
      "outputs": [
        {
          "output_type": "stream",
          "name": "stdout",
          "text": [
            "/content/drive/MyDrive\n"
          ]
        }
      ],
      "source": [
        "cd /content/drive/MyDrive"
      ]
    },
    {
      "cell_type": "code",
      "source": [
        "!git clone https://github.com/LeeJunHyun/Image_Segmentation.git"
      ],
      "metadata": {
        "colab": {
          "base_uri": "https://localhost:8080/"
        },
        "id": "jBdEnvjHX7p-",
        "outputId": "c7b621a3-3709-4925-9635-b12098361565"
      },
      "execution_count": null,
      "outputs": [
        {
          "output_type": "stream",
          "name": "stdout",
          "text": [
            "fatal: destination path 'Image_Segmentation' already exists and is not an empty directory.\n"
          ]
        }
      ]
    },
    {
      "cell_type": "code",
      "source": [
        "import glob\n",
        "\n",
        "aaa = glob.glob('/content/drive/MyDrive/pancreas/image_224/*.png')\n",
        "\n",
        "print(len(aaa))"
      ],
      "metadata": {
        "id": "fZMCoTZb1HPs",
        "colab": {
          "base_uri": "https://localhost:8080/"
        },
        "outputId": "d04b5cac-0539-402d-d1d4-be6e251f06e6"
      },
      "execution_count": 8,
      "outputs": [
        {
          "output_type": "stream",
          "name": "stdout",
          "text": [
            "18942\n"
          ]
        }
      ]
    },
    {
      "cell_type": "code",
      "source": [
        "import glob\n",
        "\n",
        "aaa = glob.glob('/content/drive/MyDrive/pancreas/label_224_2/*.png')\n",
        "\n",
        "print(len(aaa))"
      ],
      "metadata": {
        "colab": {
          "base_uri": "https://localhost:8080/"
        },
        "id": "tc4gAvMeahqM",
        "outputId": "0299a507-8850-4aea-acfd-6295e69d75f5"
      },
      "execution_count": 9,
      "outputs": [
        {
          "output_type": "stream",
          "name": "stdout",
          "text": [
            "18942\n"
          ]
        }
      ]
    },
    {
      "cell_type": "code",
      "source": [
        "import os"
      ],
      "metadata": {
        "id": "c-REcAmJ5Bwk"
      },
      "execution_count": 12,
      "outputs": []
    },
    {
      "cell_type": "code",
      "source": [
        "# to change the filenames"
      ],
      "metadata": {
        "id": "47KBm4If5tc9"
      },
      "execution_count": null,
      "outputs": []
    },
    {
      "cell_type": "code",
      "source": [
        "dataset_directory = '/content/drive/MyDrive/pancreas/image_224'"
      ],
      "metadata": {
        "id": "Nkgz0BK85Dhs"
      },
      "execution_count": 16,
      "outputs": []
    },
    {
      "cell_type": "code",
      "source": [
        "os.chdir(dataset_directory)"
      ],
      "metadata": {
        "id": "5TpUMAHl5JZw"
      },
      "execution_count": 17,
      "outputs": []
    },
    {
      "cell_type": "code",
      "source": [
        "prefix_to_add = \"pancreas_\"\n",
        "\n",
        "files = os.listdir(dataset_directory)\n",
        "\n",
        "for file in files:\n",
        "  if file.endswith(\".png\"):\n",
        "    new_name = prefix_to_add + file\n",
        "    os.rename(file, new_name)"
      ],
      "metadata": {
        "id": "Dhg5f16_5QGW"
      },
      "execution_count": 18,
      "outputs": []
    },
    {
      "cell_type": "code",
      "source": [
        "dataset_directory = '/content/drive/MyDrive/pancreas/label_224_2'"
      ],
      "metadata": {
        "id": "xogQ_muY5qPJ"
      },
      "execution_count": 19,
      "outputs": []
    },
    {
      "cell_type": "code",
      "source": [
        "os.chdir(dataset_directory)"
      ],
      "metadata": {
        "id": "532oxKjd5x8o"
      },
      "execution_count": 20,
      "outputs": []
    },
    {
      "cell_type": "code",
      "source": [
        "prefix_to_add = \"pancreas_\"\n",
        "suffix_to_add = \"_segmentation.png\"\n",
        "\n",
        "files = os.listdir(dataset_directory)\n",
        "\n",
        "for file in files:\n",
        "  if file.endswith(\".png\"):\n",
        "    new_name = prefix_to_add + file + suffix_to_add\n",
        "    os.rename(file, new_name)"
      ],
      "metadata": {
        "id": "0-xIcT2u5zcB"
      },
      "execution_count": 21,
      "outputs": []
    },
    {
      "cell_type": "code",
      "source": [
        "!python Image_Segmentation/dataset.py"
      ],
      "metadata": {
        "id": "10UHQMWKZpDH",
        "colab": {
          "base_uri": "https://localhost:8080/"
        },
        "outputId": "ee55647a-e356-4598-8022-c97171e6b6bf"
      },
      "execution_count": 11,
      "outputs": [
        {
          "output_type": "stream",
          "name": "stdout",
          "text": [
            "Namespace(train_ratio=0.6, valid_ratio=0.2, test_ratio=0.2, origin_data_path='/content/drive/MyDrive/pancreas/image_224', origin_GT_path='/content/drive/MyDrive/pancreas/label_224_2', train_path='/content/drive/MyDrive/pancreas2/train/', train_GT_path='/content/drive/MyDrive/pancreas2/train_GT/', valid_path='/content/drive/MyDrive/pancreas2/valid/', valid_GT_path='/content/drive/MyDrive/pancreas2/valid_GT/', test_path='/content/drive/MyDrive/pancreas2/test/', test_GT_path='/content/drive/MyDrive/pancreas2/test_GT/')\n",
            "Remove path - /content/drive/MyDrive/pancreas2/train/\n",
            "Create path - /content/drive/MyDrive/pancreas2/train/\n",
            "Remove path - /content/drive/MyDrive/pancreas2/train_GT/\n",
            "Create path - /content/drive/MyDrive/pancreas2/train_GT/\n",
            "Remove path - /content/drive/MyDrive/pancreas2/valid/\n",
            "Create path - /content/drive/MyDrive/pancreas2/valid/\n",
            "Remove path - /content/drive/MyDrive/pancreas2/valid_GT/\n",
            "Create path - /content/drive/MyDrive/pancreas2/valid_GT/\n",
            "Remove path - /content/drive/MyDrive/pancreas2/test/\n",
            "Create path - /content/drive/MyDrive/pancreas2/test/\n",
            "Remove path - /content/drive/MyDrive/pancreas2/test_GT/\n",
            "Create path - /content/drive/MyDrive/pancreas2/test_GT/\n",
            "\n",
            "Num of train set :  11365\n",
            "\n",
            "Num of valid set :  3788\n",
            "\n",
            "Num of test set :  3789\n",
            "Traceback (most recent call last):\n",
            "  File \"/content/drive/MyDrive/Image_Segmentation/dataset.py\", line 111, in <module>\n",
            "    main(config)\n",
            "  File \"/content/drive/MyDrive/Image_Segmentation/dataset.py\", line 53, in main\n",
            "    copyfile(src, dst)\n",
            "  File \"/usr/lib/python3.10/shutil.py\", line 254, in copyfile\n",
            "    with open(src, 'rb') as fsrc:\n",
            "FileNotFoundError: [Errno 2] No such file or directory: '/content/drive/MyDrive/pancreas/image_224/pancreas_8531.png'\n"
          ]
        }
      ]
    }
  ]
}